{
 "cells": [
  {
   "cell_type": "code",
   "execution_count": 6,
   "id": "b97dce10",
   "metadata": {},
   "outputs": [
    {
     "name": "stdout",
     "output_type": "stream",
     "text": [
      "標題：NONO爆性侵還噁問「有看過這麼大的嗎？」 受害女淚訴崩潰tw.news.yahoo.com › nono爆性侵還噁問-有看過這麼大的嗎-受害女淚訴...\n",
      "網址：/url?q=https://tw.news.yahoo.com/nono%25E7%2588%2586%25E6%2580%25A7%25E4%25BE%25B5%25E9%2582%2584%25E5%2599%2581%25E5%2595%258F-%25E6%259C%2589%25E7%259C%258B%25E9%2581%258E%25E9%2580%2599%25E9%25BA%25BC%25E5%25A4%25A7%25E7%259A%2584%25E5%2597%258E-%25E5%258F%2597%25E5%25AE%25B3%25E5%25A5%25B3%25E6%25B7%259A%25E8%25A8%25B4%25E5%25B4%25A9%25E6%25BD%25B0-062000527.html&sa=U&ved=2ahUKEwjEpabDiP-BAxX7VPUHHRUKCLkQFnoECAUQAg&usg=AOvVaw0Mq_dvjbF3jidJLlZePw_3\n",
      "標題：還問被害女有看過這麼大的嗎？ 檢溫馨室勘驗 ... - Yahoo奇摩新聞tw.news.yahoo.com › 還問被害女有看過這麼大的嗎-檢溫馨室勘驗nono-...\n",
      "網址：/url?q=https://tw.news.yahoo.com/%25E9%2582%2584%25E5%2595%258F%25E8%25A2%25AB%25E5%25AE%25B3%25E5%25A5%25B3%25E6%259C%2589%25E7%259C%258B%25E9%2581%258E%25E9%2580%2599%25E9%25BA%25BC%25E5%25A4%25A7%25E7%259A%2584%25E5%2597%258E-%25E6%25AA%25A2%25E6%25BA%25AB%25E9%25A6%25A8%25E5%25AE%25A4%25E5%258B%2598%25E9%25A9%2597nono-%25E8%25BA%25AB%25E9%25AB%2594%25E7%2589%25B9%25E5%25BE%25B5-045710262.html&sa=U&ved=2ahUKEwjEpabDiP-BAxX7VPUHHRUKCLkQFnoECAYQAg&usg=AOvVaw1Yvn7oBfOj9Mh_BE2_v02h\n",
      "標題：你有看過這麼大隻的寇格魔嗎？ - YouTubewww.youtube.com › watch\n",
      "網址：/url?q=https://www.youtube.com/watch%3Fv%3DAz2Cvp1A8rY&sa=U&ved=2ahUKEwjEpabDiP-BAxX7VPUHHRUKCLkQtwJ6BAgCEAE&usg=AOvVaw0m717OsqnMzTerzpnKTcZP\n",
      "標題：\n",
      "網址：/url?q=https://www.youtube.com/watch%3Fv%3DAz2Cvp1A8rY&sa=U&ved=2ahUKEwjEpabDiP-BAxX7VPUHHRUKCLkQuAJ6BAgCEAI&usg=AOvVaw1MR_ZiTy7CAltqbveZButM\n",
      "標題：NONO爆婚內性侵…逼問「大嗎」：這次先放過妳受害者淚曝私密特徵www.ctwant.com › 娛樂\n",
      "網址：/url?q=https://www.ctwant.com/article/264633&sa=U&ved=2ahUKEwjEpabDiP-BAxX7VPUHHRUKCLkQFnoECAkQAg&usg=AOvVaw1TVWV6CJKgh6zuyZbN23DC\n",
      "標題：還問被害女有看過這麼大的嗎？ 檢溫馨室勘驗NONO「身體特徵」news.tvbs.com.tw › 社會\n",
      "網址：/url?q=https://news.tvbs.com.tw/local/2276618&sa=U&ved=2ahUKEwjEpabDiP-BAxX7VPUHHRUKCLkQFnoECAMQAg&usg=AOvVaw0jS2Kx5Zb9VRVCFEYIcYx6\n",
      "標題：[問卦] 你有看過這麼大的嗎？ - 看板Gossiping - 批踢踢實業坊www.ptt.cc › bbs › Gossiping › M.1687316669.A.BB4.html\n",
      "網址：/url?q=https://www.ptt.cc/bbs/Gossiping/M.1687316669.A.BB4.html&sa=U&ved=2ahUKEwjEpabDiP-BAxX7VPUHHRUKCLkQFnoECAcQAg&usg=AOvVaw32aB3_bynLRRLFuBwaZLst\n",
      "標題：NONO爆性侵還噁問「有看過這麼大的嗎？」 受害女淚訴崩潰www.ftnn.com.tw › news\n",
      "網址：/url?q=https://www.ftnn.com.tw/news/19782&sa=U&ved=2ahUKEwjEpabDiP-BAxX7VPUHHRUKCLkQFnoECAQQAg&usg=AOvVaw2l4X0xKl_fdl8-zJ6zhD-K\n",
      "標題：你有看過這麼「大尾」的海參嗎？ - 國家地理雜誌中文網www.natgeomedia.com › environment › video › content-9612\n",
      "網址：/url?q=https://www.natgeomedia.com/environment/video/content-9612.html&sa=U&ved=2ahUKEwjEpabDiP-BAxX7VPUHHRUKCLkQtwJ6BAgIEAE&usg=AOvVaw1YFvfUnFxtdZqaHGcPJB55\n",
      "標題：\n",
      "網址：/url?q=https://www.natgeomedia.com/environment/video/content-9612.html&sa=U&ved=2ahUKEwjEpabDiP-BAxX7VPUHHRUKCLkQuAJ6BAgIEAI&usg=AOvVaw3TkQm-y-rfCI5TZ8dfHGv8\n",
      "標題：你有看過這麼大頂的草帽嗎? 猜猜這是做什麼用的呢?? - Facebookm.facebook.com › set.careermaster › photos\n",
      "網址：/url?q=https://m.facebook.com/set.careermaster/photos/1824611690939420/&sa=U&ved=2ahUKEwjEpabDiP-BAxX7VPUHHRUKCLkQFnoECAoQAg&usg=AOvVaw1kyydJImlahTueZg0bxBBo\n"
     ]
    }
   ],
   "source": [
    "# Google搜尋\n",
    "import requests\n",
    "from bs4 import BeautifulSoup\n",
    "\n",
    "# Google 搜尋 URL\n",
    "google_url = 'https://www.google.com.tw/search'\n",
    "\n",
    "# 查詢參數\n",
    "my_params = {'q': '你有看過這麼大的嗎'}\n",
    "\n",
    "# 下載 Google 搜尋結果\n",
    "r = requests.get(google_url, params = my_params)\n",
    "\n",
    "# 確認是否下載成功\n",
    "if r.status_code == requests.codes.ok:\n",
    "  # 以 BeautifulSoup 解析 HTML 原始碼\n",
    "  soup = BeautifulSoup(r.text, 'html.parser')\n",
    "\n",
    "  # 觀察 HTML 原始碼\n",
    "  #print(soup.prettify())\n",
    "\n",
    "  # 以 CSS 的選擇器來抓取 Google 的搜尋結果\n",
    "  items = soup.select('div.kCrYT > a[href^=\"/url\"]')\n",
    " \n",
    "  for i in items:\n",
    "    # 標題\n",
    "    print(\"標題：\" + i.text)\n",
    "    # 網址\n",
    "    print(\"網址：\" + i.get('href'))"
   ]
  },
  {
   "cell_type": "code",
   "execution_count": null,
   "id": "2b55be3e",
   "metadata": {},
   "outputs": [],
   "source": []
  }
 ],
 "metadata": {
  "kernelspec": {
   "display_name": "Python 3 (ipykernel)",
   "language": "python",
   "name": "python3"
  },
  "language_info": {
   "codemirror_mode": {
    "name": "ipython",
    "version": 3
   },
   "file_extension": ".py",
   "mimetype": "text/x-python",
   "name": "python",
   "nbconvert_exporter": "python",
   "pygments_lexer": "ipython3",
   "version": "3.11.5"
  }
 },
 "nbformat": 4,
 "nbformat_minor": 5
}
